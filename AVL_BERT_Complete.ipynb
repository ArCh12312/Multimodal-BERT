{
 "cells": [
  {
   "cell_type": "code",
   "execution_count": 1,
   "id": "9a3f6ffe",
   "metadata": {},
   "outputs": [
    {
     "name": "stdout",
     "output_type": "stream",
     "text": [
      "Missing audio or video for Ses01F_impro04, skipping.\n",
      "Missing audio or video for Ses01F_impro05, skipping.\n",
      "Missing audio or video for Ses01F_impro06, skipping.\n",
      "Missing audio or video for Ses01F_impro07, skipping.\n",
      "Missing audio or video for Ses01F_script01_1, skipping.\n",
      "Missing audio or video for Ses01F_script01_2, skipping.\n",
      "Missing audio or video for Ses01F_script01_3, skipping.\n",
      "Missing audio or video for Ses01F_script02_1, skipping.\n",
      "Missing audio or video for Ses01F_script02_2, skipping.\n",
      "Missing audio or video for Ses01F_script03_1, skipping.\n",
      "Missing audio or video for Ses01F_script03_2, skipping.\n",
      "Missing audio or video for Ses01M_impro01, skipping.\n",
      "Missing audio or video for Ses01M_impro02, skipping.\n",
      "Missing audio or video for Ses01M_impro03, skipping.\n",
      "Missing audio or video for Ses01M_impro04, skipping.\n",
      "Missing audio or video for Ses01M_impro05, skipping.\n",
      "Missing audio or video for Ses01M_impro06, skipping.\n",
      "Missing audio or video for Ses01M_impro07, skipping.\n",
      "Missing audio or video for Ses01M_script01_1, skipping.\n",
      "Missing audio or video for Ses01M_script01_2, skipping.\n",
      "Missing audio or video for Ses01M_script01_3, skipping.\n",
      "Missing audio or video for Ses01M_script02_1, skipping.\n",
      "Missing audio or video for Ses01M_script02_2, skipping.\n",
      "Missing audio or video for Ses01M_script03_1, skipping.\n",
      "Missing audio or video for Ses01M_script03_2, skipping.\n"
     ]
    }
   ],
   "source": [
    "from dataset_loader import IEMOCAPLoader\n",
    "\n",
    "TRANSCRIPT_DIR = \"C:\\\\Users\\\\aryan\\\\Documents\\\\Study\\\\Research\\\\IEMOCAP_full_release\\\\Session1\\\\dialog\\\\transcriptions\"\n",
    "AUDIO_DIR = \"C:\\\\Users\\\\aryan\\\\Documents\\\\Study\\\\Research\\\\Audio_Output\"\n",
    "VIDEO_DIR = \"C:\\\\Users\\\\aryan\\\\Documents\\\\Study\\\\Research\\\\Video_Output\"\n",
    "LABEL_FILE = \"C:\\\\Users\\\\aryan\\\\Documents\\\\Study\\\\Research\\\\scene_emotions.csv\"\n",
    "\n",
    "loader = IEMOCAPLoader(TRANSCRIPT_DIR, AUDIO_DIR, VIDEO_DIR, LABEL_FILE)\n",
    "dataset = loader.get_dataset()"
   ]
  },
  {
   "cell_type": "code",
   "execution_count": 2,
   "id": "77475a32",
   "metadata": {},
   "outputs": [
    {
     "name": "stdout",
     "output_type": "stream",
     "text": [
      "Loaded 3 scenes.\n",
      "Sample entry: {'scene_id': 'Ses01F_impro01', 'transcript': \"Excuse me.\\nDo you have your forms?\\nYeah.\\nLet me see them.\\nIs there a problem?\\nWho told you to get in this line?\\nYou did.\\nYou were standing at the beginning and you directed me.\\nOkay. But I didn't tell you to get in this line if you are filling out this particular form.\\nWell what's the problem?  Let me change it.\\nThis form is a Z.X.four.\\nYou can't--  This is not the line for Z.X.four.  If you're going to fill out the Z.X.four, you need to have a different form of ID.\\nWhat?  I'm getting an ID.  This is why I'm here.  My wallet was stolen.\\nNo. I need another set of ID to prove this is actually you.\\nHow am I supposed to get an ID without an ID?  How does a person get an ID in the first place?\\nI don't know.  But I need an ID to pass this form along.  I can't just send it along without an ID.\\nI'm here to get an ID.\\nNo.  I need another ID, a separate one.\\nLike what?  Like a birth certificate?\\nA birth certificate, a passport...a student ID; didn't you go to school?  Anything?\\nWho the hell has a birth certificate?\\nYes but my wallet was stolen, I don't have anything.  I don't have any credit cards, I don't have my ID.  Don't you have things on file here?\\nYeah.  We keep it on file, but we need an ID to access that file.\\nThat's out of control.\\nI don't understand why this is so complicated for people when they get here.  It's just a simple form.  I just need an ID.\\nHow long have you been working here?\\nActually too long.\\nClearly.  You know, do you have like a supervisor or something?\\nYeah.  Do you want to see my supervisor?  Huh? Yeah.  Do you want to see my supervisor?  Fine.  I'll be right back.\\nThat would - I would appreciate that.  Yeah.\", 'audio_path': 'C:\\\\Users\\\\aryan\\\\Documents\\\\Study\\\\Research\\\\Audio_Output\\\\Ses01F_impro01.npy', 'video_path': 'C:\\\\Users\\\\aryan\\\\Documents\\\\Study\\\\Research\\\\Video_Output\\\\Ses01F_impro01.npy', 'label': 'Frustration'}\n"
     ]
    }
   ],
   "source": [
    "print(f\"Loaded {len(dataset)} scenes.\")\n",
    "print(\"Sample entry:\", dataset[0])"
   ]
  },
  {
   "cell_type": "code",
   "execution_count": 3,
   "id": "0d1d8b15",
   "metadata": {},
   "outputs": [],
   "source": [
    "from text_embedding import BERTFeatureExtractor"
   ]
  },
  {
   "cell_type": "code",
   "execution_count": 4,
   "id": "93870573",
   "metadata": {},
   "outputs": [
    {
     "name": "stdout",
     "output_type": "stream",
     "text": [
      "Extracted features shape: torch.Size([3, 256, 768])\n"
     ]
    }
   ],
   "source": [
    "# Extract just the transcript texts\n",
    "texts = [item[\"transcript\"] for item in dataset]\n",
    "\n",
    "extractor = BERTFeatureExtractor()\n",
    "text_embeddings = extractor.extract_features(texts)\n",
    "\n",
    "print(\"Extracted features shape:\", text_embeddings.shape)"
   ]
  },
  {
   "cell_type": "code",
   "execution_count": 5,
   "id": "dc1e074e",
   "metadata": {},
   "outputs": [],
   "source": [
    "video_embedding_paths = [item[\"video_path\"] for item in dataset]\n",
    "audio_embedding_paths = [item[\"audio_path\"] for item in dataset]\n",
    "video_embeddings = []\n",
    "audio_embeddings = []"
   ]
  },
  {
   "cell_type": "code",
   "execution_count": null,
   "id": "9120f44c",
   "metadata": {},
   "outputs": [
    {
     "name": "stdout",
     "output_type": "stream",
     "text": [
      "\n",
      "Loaded video embeddings\n",
      "\n",
      "Loaded audio embeddings\n"
     ]
    }
   ],
   "source": [
    "import os\n",
    "import numpy as np\n",
    "import torch\n",
    "\n",
    "for path in video_embedding_paths:\n",
    "    if os.path.exists(path):\n",
    "        try:\n",
    "            embedding = np.load(path)\n",
    "            video_embeddings.append(embedding)\n",
    "            # print(f\"Loaded video embedding from: {path} (Shape: {embedding.shape})\")\n",
    "        except Exception as e:\n",
    "            print(f\"Error loading video embedding from {path}: {e}\")\n",
    "    else:\n",
    "        print(f\"Video embedding file not found: {path}\")\n",
    "print(\"\\nLoaded video embeddings\")\n",
    "\n",
    "for path in audio_embedding_paths:\n",
    "    if os.path.exists(path):\n",
    "        try:\n",
    "            embedding = np.load(path)\n",
    "            audio_embeddings.append(embedding)\n",
    "            # print(f\"Loaded audio embedding from: {path} (Shape: {embedding.shape})\")\n",
    "        except Exception as e:\n",
    "            print(f\"Error loading audio embedding from {path}: {e}\")\n",
    "    else:\n",
    "        print(f\"Audio embedding file not found: {path}\")\n",
    "print(\"\\nLoaded audio embeddings\")"
   ]
  },
  {
   "cell_type": "code",
   "execution_count": null,
   "id": "71da22a6",
   "metadata": {},
   "outputs": [
    {
     "name": "stdout",
     "output_type": "stream",
     "text": [
      "\n",
      "Successfully loaded 3 video embeddings.\n",
      "Successfully loaded 3 audio embeddings.\n",
      "\n",
      "Shape of the loaded video embeddings: torch.Size([674, 768])\n",
      "Shape of the loaded audio embeddings: torch.Size([139, 768])\n"
     ]
    }
   ],
   "source": [
    "print(f\"\\nSuccessfully loaded {len(video_embeddings)} video embeddings.\")\n",
    "print(f\"Successfully loaded {len(audio_embeddings)} audio embeddings.\")\n",
    "print(\"\\nShape of the loaded video embeddings:\", video_embeddings[0].shape)\n",
    "print(\"Shape of the loaded audio embeddings:\", audio_embeddings[0].shape)\n",
    "\n",
    "print(\"\\nShape of the loaded video embeddings:\", video_embeddings[1].shape)\n",
    "print(\"Shape of the loaded audio embeddings:\", audio_embeddings[1].shape)\n",
    "\n",
    "print(\"\\nShape of the loaded video embeddings:\", video_embeddings[2].shape)\n",
    "print(\"Shape of the loaded audio embeddings:\", audio_embeddings[2].shape)"
   ]
  },
  {
   "cell_type": "code",
   "execution_count": null,
   "id": "688a0486",
   "metadata": {},
   "outputs": [],
   "source": [
    "import torch\n",
    "from transformers import AutoTokenizer, AutoModel"
   ]
  },
  {
   "cell_type": "code",
   "execution_count": null,
   "id": "e57c32d4",
   "metadata": {},
   "outputs": [],
   "source": [
    "tokenizer = AutoTokenizer.from_pretrained(\"bert-base-uncased\")\n",
    "model = AutoModel.from_pretrained(\"bert-base-uncased\")"
   ]
  },
  {
   "cell_type": "code",
   "execution_count": null,
   "id": "83a4a161",
   "metadata": {},
   "outputs": [],
   "source": [
    "cls_embedding = model.embeddings.word_embeddings(torch.tensor([tokenizer.cls_token_id]))\n",
    "sep_embedding = model.embeddings.word_embeddings(torch.tensor([tokenizer.sep_token_id]))"
   ]
  },
  {
   "cell_type": "code",
   "execution_count": null,
   "id": "6494befb",
   "metadata": {},
   "outputs": [
    {
     "name": "stdout",
     "output_type": "stream",
     "text": [
      "Shape of the CLS embedding: torch.Size([1, 768])\n",
      "Shape of the SEP embedding: torch.Size([1, 768])\n"
     ]
    }
   ],
   "source": [
    "print(\"Shape of the CLS embedding:\", cls_embedding.shape)\n",
    "print(\"Shape of the SEP embedding:\", sep_embedding.shape)"
   ]
  },
  {
   "cell_type": "code",
   "execution_count": null,
   "id": "312b0025",
   "metadata": {},
   "outputs": [
    {
     "ename": "TypeError",
     "evalue": "expected Tensor as element 1 in argument 0, but got list",
     "output_type": "error",
     "traceback": [
      "\u001b[1;31m---------------------------------------------------------------------------\u001b[0m",
      "\u001b[1;31mTypeError\u001b[0m                                 Traceback (most recent call last)",
      "Cell \u001b[1;32mIn[24], line 1\u001b[0m\n\u001b[1;32m----> 1\u001b[0m concatenated_embeddings \u001b[38;5;241m=\u001b[39m \u001b[43mtorch\u001b[49m\u001b[38;5;241;43m.\u001b[39;49m\u001b[43mcat\u001b[49m\u001b[43m(\u001b[49m\n\u001b[0;32m      2\u001b[0m \u001b[43m    \u001b[49m\u001b[43m(\u001b[49m\n\u001b[0;32m      3\u001b[0m \u001b[43m        \u001b[49m\u001b[43mcls_embedding\u001b[49m\u001b[43m,\u001b[49m\n\u001b[0;32m      4\u001b[0m \u001b[43m        \u001b[49m\u001b[43mvideo_embeddings\u001b[49m\u001b[43m,\u001b[49m\n\u001b[0;32m      5\u001b[0m \u001b[43m        \u001b[49m\u001b[43msep_embedding\u001b[49m\u001b[43m,\u001b[49m\n\u001b[0;32m      6\u001b[0m \u001b[43m        \u001b[49m\u001b[43maudio_embeddings\u001b[49m\u001b[43m,\u001b[49m\n\u001b[0;32m      7\u001b[0m \u001b[43m        \u001b[49m\u001b[43msep_embedding\u001b[49m\u001b[43m,\u001b[49m\u001b[43m \u001b[49m\u001b[38;5;66;43;03m# Another SEP token\u001b[39;49;00m\n\u001b[0;32m      8\u001b[0m \u001b[43m        \u001b[49m\u001b[43mtext_embeddings\u001b[49m\u001b[43m,\u001b[49m\n\u001b[0;32m      9\u001b[0m \u001b[43m        \u001b[49m\u001b[43msep_embedding\u001b[49m\u001b[43m \u001b[49m\u001b[38;5;66;43;03m# Final SEP token for the entire sequence\u001b[39;49;00m\n\u001b[0;32m     10\u001b[0m \u001b[43m    \u001b[49m\u001b[43m)\u001b[49m\u001b[43m,\u001b[49m\n\u001b[0;32m     11\u001b[0m \u001b[43m    \u001b[49m\u001b[43mdim\u001b[49m\u001b[38;5;241;43m=\u001b[39;49m\u001b[38;5;241;43m0\u001b[39;49m\u001b[43m \u001b[49m\u001b[38;5;66;43;03m# Concatenate along the sequence dimension (axis 0)\u001b[39;49;00m\n\u001b[0;32m     12\u001b[0m \u001b[43m)\u001b[49m\n",
      "\u001b[1;31mTypeError\u001b[0m: expected Tensor as element 1 in argument 0, but got list"
     ]
    }
   ],
   "source": [
    "concatenated_embeddings = torch.cat(\n",
    "    (\n",
    "        cls_embedding,\n",
    "        video_embeddings,\n",
    "        sep_embedding,\n",
    "        audio_embeddings,\n",
    "        sep_embedding, # Another SEP token\n",
    "        text_embeddings,\n",
    "        sep_embedding # Final SEP token for the entire sequence\n",
    "    ),\n",
    "    dim=0 # Concatenate along the sequence dimension (axis 0)\n",
    ")"
   ]
  }
 ],
 "metadata": {
  "kernelspec": {
   "display_name": "Python 3",
   "language": "python",
   "name": "python3"
  },
  "language_info": {
   "codemirror_mode": {
    "name": "ipython",
    "version": 3
   },
   "file_extension": ".py",
   "mimetype": "text/x-python",
   "name": "python",
   "nbconvert_exporter": "python",
   "pygments_lexer": "ipython3",
   "version": "3.10.7"
  }
 },
 "nbformat": 4,
 "nbformat_minor": 5
}
